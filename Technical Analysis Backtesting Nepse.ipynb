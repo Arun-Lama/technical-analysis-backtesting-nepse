{
 "cells": [
  {
   "cell_type": "code",
   "execution_count": 58,
   "metadata": {},
   "outputs": [],
   "source": [
    "import pandas as pd\n",
    "import talib\n",
    "import numpy as np\n",
    "from math import e\n",
    "from datetime import datetime, date\n",
    "from pathlib import Path\n",
    "import math\n",
    "import os\n",
    "from os import listdir\n",
    "from os.path import isfile, join"
   ]
  },
  {
   "cell_type": "code",
   "execution_count": 59,
   "metadata": {},
   "outputs": [],
   "source": [
    "def calc_new_col(row):\n",
    "    if   (row['MA20'] ==True) and (row['RSI']==True) and (row['MacdVsSigLine']==True):# and (row['RS>RSma']== True) :\n",
    "        return 'Buy'\n",
    "    elif (row['MA20'] ==False) and (row['RSI']==False) and (row['MacdVsSigLine']==False):# and row['MacdVsSigLine']==False) :\n",
    "        return 'Sell'\n",
    "    else:\n",
    "        return 'Neutral'\n"
   ]
  },
  {
   "cell_type": "code",
   "execution_count": 60,
   "metadata": {},
   "outputs": [],
   "source": [
    "#function which calculates values of different technical  indicator . \n",
    "def ta_indicators(df):\n",
    "#     df= df[['Date','Close']]\n",
    "    df = df.copy()\n",
    "    df['MA20V'] = talib.SMA(df['Close'],timeperiod=20)\n",
    "    df['RSIV']= talib.RSI(df['Close'])  \n",
    "    df['MACD'] = talib.MACD(df['Close'], fastperiod=12, slowperiod=26, signalperiod=9)[0]\n",
    "    df['MACDsig'] = talib.MACD(df['Close'], fastperiod=12, slowperiod=26, signalperiod=9)[1]\n",
    "    df.set_index('Date', inplace = True)\n",
    "    return df"
   ]
  },
  {
   "cell_type": "code",
   "execution_count": 61,
   "metadata": {},
   "outputs": [],
   "source": [
    "def parameters_result(df):\n",
    "    df['MA20']= df['Close'] >  df['MA20V']\n",
    "    df['RSI']=  df['RSIV']>50\n",
    "    df['MacdVsSigLine']= talib.MACD(df['Close'], fastperiod=12, slowperiod=26, signalperiod=9)[0]\\\n",
    "           > talib.MACD(df['Close'], fastperiod=12, slowperiod=26, signalperiod=9)[1]\n",
    "#     df['+DI>-DI'] = talib.PLUS_DI(df['High'], df['Low'], df['Close'], timeperiod = 14)\\\n",
    "#                     > talib.MINUS_DI(df['High'], df['Low'], df['Close'], timeperiod = 14)\n",
    "    df[\"final\"] = df.apply(calc_new_col, axis=1) #Getting final signal \n",
    "    return df"
   ]
  },
  {
   "cell_type": "code",
   "execution_count": 62,
   "metadata": {
    "scrolled": false
   },
   "outputs": [],
   "source": [
    "def scrip_backtest(simulated_df, simulations_tracker): \n",
    "    stock_wise_stat = []\n",
    "    df_company = simulated_df\n",
    "    historical_signal =  ['dummy', 'dummy']\n",
    "    valid_signal = []\n",
    "\n",
    "    ta_indicator_calculations = ta_indicators(df_company) #ta_indicators function which calculates TA indicator values in  a dataframe\n",
    "    df = parameters_result(ta_indicator_calculations) # Returns true false based on parameters of TA in a dataframe\n",
    "    \n",
    "    df['P_change'] = df['Close'].pct_change()\n",
    "    df['log'] = np.log(1+df['P_change'])\n",
    "    annualized_BnH_stdev = df['log'].std() * math.sqrt(229)\n",
    "    \n",
    "    for_strategy_stdev = df.copy()\n",
    "    for_strategy_stdev['final'] = for_strategy_stdev['final'].shift(1)\n",
    "    for_strategy_stdev = for_strategy_stdev[for_strategy_stdev['final'].isin(['Buy'])]\n",
    "    annualized_strategy_stdev = for_strategy_stdev['log'].std() * math.sqrt(229)\n",
    "\n",
    "    for index_number, date in enumerate(list(df.index)):\n",
    "        if index_number == 0:\n",
    "            current_day_signal = 'Neutral'\n",
    "            previous_day_signal = 'Neutral'\n",
    "        else:\n",
    "            previous_day_signal = df.loc[list(df.index)[index_number-1]]['final']\n",
    "            current_day_signal = df.loc[list(df.index)[index_number]]['final']\n",
    "\n",
    "        if current_day_signal == 'Buy' or current_day_signal == 'Sell':\n",
    "            if current_day_signal == previous_day_signal:\n",
    "                pass\n",
    "            else:\n",
    "                historical_signal.append(current_day_signal)\n",
    "                if current_day_signal == historical_signal[-2]:#Buy signal can appear again after neutral signal so this codes removes that \n",
    "                    pass\n",
    "                else:\n",
    "                    signal_info = {'Date' : date,\n",
    "                                   'Close': df.loc[list(df.index)[index_number]]['Close'],\n",
    "                                   'Signal' : current_day_signal               \n",
    "                                    }\n",
    "                    valid_signal.append(signal_info)\n",
    "    # ======================================================================================================================\n",
    "    buy_sell_report = pd.DataFrame(valid_signal)\n",
    "\n",
    "    if list(buy_sell_report['Signal'])[0] ==\"Sell\":\n",
    "        buy_sell_report = buy_sell_report[1:]\n",
    "    elif list(buy_sell_report['Signal'])[-1]  == 'Buy':\n",
    "            buy_sell_report = buy_sell_report[:-1]\n",
    "    else:\n",
    "        pass\n",
    "\n",
    "    final_df = buy_sell_report\n",
    "    final_df['Comission_adj_price'] = np.where(final_df['Signal'] == 'Buy',\n",
    "                                           final_df['Close'] *  1.004,\n",
    "                                           final_df['Close']*0.996 )\n",
    "    final_df['CGT']  = np.where((final_df['Comission_adj_price'].diff()>0) & (final_df['Signal'] == 'Sell'),final_df['Comission_adj_price'].diff()*0.05, 0)\n",
    "    final_df['CGT_adjustedPrice'] = final_df['Comission_adj_price'] - final_df['CGT']\n",
    "    final_df['Strategy_return'] = final_df['CGT_adjustedPrice'].pct_change()\n",
    "    final_df['Log_return'] = np.log(1+final_df['Strategy_return'])\n",
    "    final_df.to_csv(f'D:/Thesis/Bullish phase backtesting results scripwise/{simulations_tracker}.csv')\n",
    "    final_df = final_df[final_df['Signal'] == 'Sell']\n",
    "    total_trades = final_df[final_df['Signal']==\"Sell\"].count()\n",
    "    winning_trades = final_df[final_df['Strategy_return']>0].count()\n",
    "    winning_rate = winning_trades/total_trades\n",
    "    start_date = df.index[0]\n",
    "    end_date = df.index[-1]\n",
    "    years = (end_date - start_date).days/365\n",
    "    buy_and_hold_cagr =  df['log'].sum()/years\n",
    "    average_log_return = final_df['Log_return'].sum()/years\n",
    "    cagr = average_log_return\n",
    "#     buy_and_hold =  (list(df.Close)[-1]/list(df.Close)[0])**(1/years)-1\n",
    "    \n",
    "    performance_stats = {'Ticker' : f'{simulations_tracker}' ,\n",
    "                         'Buy and Hold CAGR' : buy_and_hold_cagr,\n",
    "                         'Strategy CAGR'  : cagr,\n",
    "                         'Total Trades' : total_trades[0],\n",
    "                         'Win rate' : round(winning_rate[0],2),\n",
    "                        'Buy&H return annual std' : annualized_BnH_stdev,\n",
    "                         'Strategy return annual std' : annualized_strategy_stdev,\n",
    "                         'Period' : f'{round(years,2)} years'\n",
    "                            }\n",
    "    stock_wise_stat.append(performance_stats)\n",
    "    return performance_stats"
   ]
  },
  {
   "cell_type": "markdown",
   "metadata": {},
   "source": [
    "### Import Data"
   ]
  },
  {
   "cell_type": "code",
   "execution_count": 63,
   "metadata": {},
   "outputs": [],
   "source": [
    "samples = pd.read_csv('D:/Thesis/Sample stocks.csv')"
   ]
  },
  {
   "cell_type": "code",
   "execution_count": null,
   "metadata": {
    "scrolled": false
   },
   "outputs": [],
   "source": [
    "all_scrip_stats = []\n",
    "for index, ticker in enumerate(samples.Ticker):#in enumerate(samples.Ticker):\n",
    "    print(ticker)\n",
    "    price_history= pd.read_csv(f'D:/Thesis/adjusted prices/{ticker}.csv')\n",
    "    price_history['Date'] = pd.to_datetime(price_history['Date'])\n",
    "    stats = scrip_backtest(price_history,ticker )\n",
    "    all_scrip_stats.append(stats)"
   ]
  },
  {
   "cell_type": "code",
   "execution_count": 69,
   "metadata": {
    "scrolled": true
   },
   "outputs": [
    {
     "name": "stdout",
     "output_type": "stream",
     "text": [
      "Completed!\n"
     ]
    }
   ],
   "source": [
    "x = pd.DataFrame.from_dict(all_scrip_stats)\n",
    "x.to_csv('D:/Thesis/Bullish phase backtesting results scripwise/AllScripBacktest.csv')\n",
    "print('Completed!')"
   ]
  }
 ],
 "metadata": {
  "kernelspec": {
   "display_name": "Python 3 (ipykernel)",
   "language": "python",
   "name": "python3"
  },
  "language_info": {
   "codemirror_mode": {
    "name": "ipython",
    "version": 3
   },
   "file_extension": ".py",
   "mimetype": "text/x-python",
   "name": "python",
   "nbconvert_exporter": "python",
   "pygments_lexer": "ipython3",
   "version": "3.11.3"
  }
 },
 "nbformat": 4,
 "nbformat_minor": 4
}
